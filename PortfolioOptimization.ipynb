{
 "cells": [
  {
   "cell_type": "code",
   "execution_count": 57,
   "metadata": {},
   "outputs": [],
   "source": [
    "import yfinance as yf\n",
    "import pandas as pd\n",
    "import numpy as np\n",
    "from datetime import datetime, timedelta\n",
    "from scipy.optimize import minimize\n",
    "import api"
   ]
  },
  {
   "cell_type": "markdown",
   "metadata": {},
   "source": [
    "# Section 1 -- Define tickers and time period\n",
    "## How can i create a portfolio with the highest risk adjusted return?\n"
   ]
  },
  {
   "cell_type": "markdown",
   "metadata": {},
   "source": [
    "## Define the list of tickers"
   ]
  },
  {
   "cell_type": "code",
   "execution_count": 3,
   "metadata": {},
   "outputs": [],
   "source": [
    "tickers = ['SPY', 'BND','GLD','QQQ','VTI']"
   ]
  },
  {
   "cell_type": "code",
   "execution_count": 4,
   "metadata": {},
   "outputs": [],
   "source": [
    "end_date = datetime.today()"
   ]
  },
  {
   "cell_type": "markdown",
   "metadata": {},
   "source": [
    "## Set start date 5 years ago"
   ]
  },
  {
   "cell_type": "code",
   "execution_count": 5,
   "metadata": {},
   "outputs": [
    {
     "data": {
      "text/plain": [
       "datetime.datetime(2020, 6, 12, 9, 6, 50, 135073)"
      ]
     },
     "execution_count": 5,
     "metadata": {},
     "output_type": "execute_result"
    }
   ],
   "source": [
    "start_date = end_date - timedelta(days=365*5)\n",
    "start_date"
   ]
  },
  {
   "cell_type": "markdown",
   "metadata": {},
   "source": [
    "# Section 2: download Adjusted Close Prices\n",
    "\n",
    "## Create an empty DataFrame to store the adj close prices\n",
    "\n",
    "### Adj close is more representative of overall returns as they include dividents and stock splits"
   ]
  },
  {
   "cell_type": "code",
   "execution_count": 6,
   "metadata": {},
   "outputs": [],
   "source": [
    "adj_close_df = pd.DataFrame()"
   ]
  },
  {
   "cell_type": "markdown",
   "metadata": {},
   "source": [
    "## Download close price for each of the tickers"
   ]
  },
  {
   "cell_type": "code",
   "execution_count": 26,
   "metadata": {},
   "outputs": [
    {
     "name": "stderr",
     "output_type": "stream",
     "text": [
      "[*********************100%***********************]  1 of 1 completed\n",
      "[*********************100%***********************]  1 of 1 completed\n",
      "[*********************100%***********************]  1 of 1 completed\n",
      "[*********************100%***********************]  1 of 1 completed\n",
      "[*********************100%***********************]  1 of 1 completed\n"
     ]
    }
   ],
   "source": [
    "for ticker in tickers:\n",
    "    data = yf.download(ticker, start=start_date, end=end_date, auto_adjust=False)\n",
    "    adj_close_df[ticker] = data['Adj Close']"
   ]
  },
  {
   "cell_type": "code",
   "execution_count": 27,
   "metadata": {},
   "outputs": [
    {
     "name": "stdout",
     "output_type": "stream",
     "text": [
      "                   SPY        BND         GLD         QQQ         VTI\n",
      "Date                                                                 \n",
      "2020-06-12  282.848114  76.069122  162.619995  228.909180  142.906311\n",
      "2020-06-15  285.488739  76.225128  162.330002  231.694382  144.437729\n",
      "2020-06-16  290.983643  76.129791  162.250000  235.673248  147.212936\n",
      "2020-06-17  289.774933  76.147118  162.559998  236.420456  146.498230\n",
      "2020-06-18  289.886536  76.233765  162.240005  237.060959  146.618866\n"
     ]
    }
   ],
   "source": [
    "# Check adj close_df\n",
    "print(adj_close_df.head())"
   ]
  },
  {
   "cell_type": "markdown",
   "metadata": {},
   "source": [
    "# Section 3: Calculate Log normal returns for each ticker"
   ]
  },
  {
   "cell_type": "code",
   "execution_count": 31,
   "metadata": {},
   "outputs": [
    {
     "name": "stdout",
     "output_type": "stream",
     "text": [
      "                 SPY       BND       GLD       QQQ       VTI\n",
      "Date                                                        \n",
      "2020-06-12       NaN       NaN       NaN       NaN       NaN\n",
      "2020-06-15  0.009293  0.002049 -0.001785  0.012094  0.010659\n",
      "2020-06-16  0.019064 -0.001252 -0.000493  0.017027  0.019032\n",
      "2020-06-17 -0.004163  0.000228  0.001909  0.003166 -0.004867\n",
      "2020-06-18  0.000385  0.001137 -0.001970  0.002706  0.000823\n",
      "SPY    1254\n",
      "BND    1254\n",
      "GLD    1254\n",
      "QQQ    1254\n",
      "VTI    1254\n",
      "dtype: int64\n"
     ]
    }
   ],
   "source": [
    "log_returns_df = np.log(adj_close_df / adj_close_df.shift(1))\n",
    "# Check log returns\n",
    "print(log_returns_df.head())\n",
    "print(log_returns_df.count())"
   ]
  },
  {
   "cell_type": "markdown",
   "metadata": {},
   "source": [
    "## Drop missing values"
   ]
  },
  {
   "cell_type": "code",
   "execution_count": 32,
   "metadata": {},
   "outputs": [
    {
     "data": {
      "application/vnd.microsoft.datawrangler.viewer.v0+json": {
       "columns": [
        {
         "name": "index",
         "rawType": "object",
         "type": "string"
        },
        {
         "name": "0",
         "rawType": "int64",
         "type": "integer"
        }
       ],
       "ref": "4dabfcd1-fd31-45c4-9465-025f469679a9",
       "rows": [
        [
         "SPY",
         "1254"
        ],
        [
         "BND",
         "1254"
        ],
        [
         "GLD",
         "1254"
        ],
        [
         "QQQ",
         "1254"
        ],
        [
         "VTI",
         "1254"
        ]
       ],
       "shape": {
        "columns": 1,
        "rows": 5
       }
      },
      "text/plain": [
       "SPY    1254\n",
       "BND    1254\n",
       "GLD    1254\n",
       "QQQ    1254\n",
       "VTI    1254\n",
       "dtype: int64"
      ]
     },
     "execution_count": 32,
     "metadata": {},
     "output_type": "execute_result"
    }
   ],
   "source": [
    "log_returns_df = log_returns_df.dropna()\n",
    "log_returns_df.count()"
   ]
  },
  {
   "cell_type": "markdown",
   "metadata": {},
   "source": [
    "# Section 4: Calculate Covariance Matrix"
   ]
  },
  {
   "cell_type": "code",
   "execution_count": 33,
   "metadata": {},
   "outputs": [
    {
     "data": {
      "application/vnd.microsoft.datawrangler.viewer.v0+json": {
       "columns": [
        {
         "name": "index",
         "rawType": "object",
         "type": "string"
        },
        {
         "name": "SPY",
         "rawType": "float64",
         "type": "float"
        },
        {
         "name": "BND",
         "rawType": "float64",
         "type": "float"
        },
        {
         "name": "GLD",
         "rawType": "float64",
         "type": "float"
        },
        {
         "name": "QQQ",
         "rawType": "float64",
         "type": "float"
        },
        {
         "name": "VTI",
         "rawType": "float64",
         "type": "float"
        }
       ],
       "ref": "9cf8fabc-3958-4f0e-b0b8-7e13a20dc749",
       "rows": [
        [
         "SPY",
         "0.03112447366736571",
         "0.0019077115773013561",
         "0.0038957583170631613",
         "0.03887119869251876",
         "0.03162211612990627"
        ],
        [
         "BND",
         "0.0019077115773013561",
         "0.0035452782470217436",
         "0.003089252070348579",
         "0.0027567630109219185",
         "0.00199666636763221"
        ],
        [
         "GLD",
         "0.0038957583170631613",
         "0.003089252070348579",
         "0.023605173386975254",
         "0.005225714772000319",
         "0.00406512154193301"
        ],
        [
         "QQQ",
         "0.03887119869251876",
         "0.0027567630109219185",
         "0.005225714772000319",
         "0.05534332146375168",
         "0.03956165692637637"
        ],
        [
         "VTI",
         "0.03162211612990627",
         "0.00199666636763221",
         "0.00406512154193301",
         "0.03956165692637637",
         "0.03246518814015854"
        ]
       ],
       "shape": {
        "columns": 5,
        "rows": 5
       }
      },
      "text/html": [
       "<div>\n",
       "<style scoped>\n",
       "    .dataframe tbody tr th:only-of-type {\n",
       "        vertical-align: middle;\n",
       "    }\n",
       "\n",
       "    .dataframe tbody tr th {\n",
       "        vertical-align: top;\n",
       "    }\n",
       "\n",
       "    .dataframe thead th {\n",
       "        text-align: right;\n",
       "    }\n",
       "</style>\n",
       "<table border=\"1\" class=\"dataframe\">\n",
       "  <thead>\n",
       "    <tr style=\"text-align: right;\">\n",
       "      <th></th>\n",
       "      <th>SPY</th>\n",
       "      <th>BND</th>\n",
       "      <th>GLD</th>\n",
       "      <th>QQQ</th>\n",
       "      <th>VTI</th>\n",
       "    </tr>\n",
       "  </thead>\n",
       "  <tbody>\n",
       "    <tr>\n",
       "      <th>SPY</th>\n",
       "      <td>0.031124</td>\n",
       "      <td>0.001908</td>\n",
       "      <td>0.003896</td>\n",
       "      <td>0.038871</td>\n",
       "      <td>0.031622</td>\n",
       "    </tr>\n",
       "    <tr>\n",
       "      <th>BND</th>\n",
       "      <td>0.001908</td>\n",
       "      <td>0.003545</td>\n",
       "      <td>0.003089</td>\n",
       "      <td>0.002757</td>\n",
       "      <td>0.001997</td>\n",
       "    </tr>\n",
       "    <tr>\n",
       "      <th>GLD</th>\n",
       "      <td>0.003896</td>\n",
       "      <td>0.003089</td>\n",
       "      <td>0.023605</td>\n",
       "      <td>0.005226</td>\n",
       "      <td>0.004065</td>\n",
       "    </tr>\n",
       "    <tr>\n",
       "      <th>QQQ</th>\n",
       "      <td>0.038871</td>\n",
       "      <td>0.002757</td>\n",
       "      <td>0.005226</td>\n",
       "      <td>0.055343</td>\n",
       "      <td>0.039562</td>\n",
       "    </tr>\n",
       "    <tr>\n",
       "      <th>VTI</th>\n",
       "      <td>0.031622</td>\n",
       "      <td>0.001997</td>\n",
       "      <td>0.004065</td>\n",
       "      <td>0.039562</td>\n",
       "      <td>0.032465</td>\n",
       "    </tr>\n",
       "  </tbody>\n",
       "</table>\n",
       "</div>"
      ],
      "text/plain": [
       "          SPY       BND       GLD       QQQ       VTI\n",
       "SPY  0.031124  0.001908  0.003896  0.038871  0.031622\n",
       "BND  0.001908  0.003545  0.003089  0.002757  0.001997\n",
       "GLD  0.003896  0.003089  0.023605  0.005226  0.004065\n",
       "QQQ  0.038871  0.002757  0.005226  0.055343  0.039562\n",
       "VTI  0.031622  0.001997  0.004065  0.039562  0.032465"
      ]
     },
     "execution_count": 33,
     "metadata": {},
     "output_type": "execute_result"
    }
   ],
   "source": [
    "cov_matrix = log_returns_df.cov() * 252  # Annualize the covariance matrix\n",
    "cov_matrix"
   ]
  },
  {
   "cell_type": "markdown",
   "metadata": {},
   "source": [
    "# Section 5: Portfolio performance metrics\n"
   ]
  },
  {
   "cell_type": "markdown",
   "metadata": {},
   "source": [
    "## Calculate Portfolio Standard deviation"
   ]
  },
  {
   "cell_type": "code",
   "execution_count": 34,
   "metadata": {},
   "outputs": [],
   "source": [
    "def standard_deviation(weights, cov_matrix):\n",
    "    \"\"\"\n",
    "    Calculate the portfolio standard deviation.\n",
    "    \"\"\"\n",
    "    return np.sqrt(np.dot(weights.T, np.dot(cov_matrix, weights)))"
   ]
  },
  {
   "cell_type": "markdown",
   "metadata": {},
   "source": [
    "## Calculate Expected Return\n",
    "\n",
    "Assuming expected returns are similar to historical returns"
   ]
  },
  {
   "cell_type": "code",
   "execution_count": 35,
   "metadata": {},
   "outputs": [],
   "source": [
    "def expected_return(weights, log_returns_df):\n",
    "    \"\"\"\n",
    "    Calculate the expected portfolio return.\n",
    "    \"\"\"\n",
    "    return np.sum(log_returns_df.mean() * weights) * 252  # Annualize the return"
   ]
  },
  {
   "cell_type": "markdown",
   "metadata": {},
   "source": [
    "## Calculate Sharpe Ratio"
   ]
  },
  {
   "cell_type": "code",
   "execution_count": 36,
   "metadata": {},
   "outputs": [],
   "source": [
    "def sharpe_ratio(weights, log_returns_df, cov_matrix, risk_free_rate):\n",
    "    \"\"\"\n",
    "    Calculate the Sharpe Ratio of the portfolio.\n",
    "    \"\"\"\n",
    "    return(expected_return (weights, log_returns_df) - risk_free_rate) / standard_deviation(weights, cov_matrix)"
   ]
  },
  {
   "cell_type": "markdown",
   "metadata": {},
   "source": [
    "## Calculate Sortino Ratio"
   ]
  },
  {
   "cell_type": "code",
   "execution_count": 37,
   "metadata": {},
   "outputs": [],
   "source": [
    "def sortino_ratio(weights, log_returns_df, cov_matrix, risk_free_rate):\n",
    "    \"\"\"\n",
    "    Calculate the Sortino Ratio of the portfolio.\n",
    "    \"\"\"\n",
    "    downside_returns = log_returns_df[log_returns_df < 0]\n",
    "    downside_deviation = np.sqrt(np.dot(weights.T, np.dot(downside_returns.cov() * 252, weights)))\n",
    "    return (expected_return(weights, log_returns_df) - risk_free_rate) / downside_deviation"
   ]
  },
  {
   "cell_type": "markdown",
   "metadata": {},
   "source": [
    "# Section 6: Portfolio Optimization"
   ]
  },
  {
   "cell_type": "markdown",
   "metadata": {},
   "source": [
    "## Set Risk Free Rate"
   ]
  },
  {
   "cell_type": "code",
   "execution_count": 58,
   "metadata": {},
   "outputs": [],
   "source": [
    "\n",
    "def get_risk_free_rate(api_key):\n",
    "    \"\"\"\n",
    "    Fetch the risk-free rate from FRED.\n",
    "    \"\"\"\n",
    "    import requests\n",
    "    #using the 10-year Treasury yield as a proxy for the risk-free rate\n",
    "    url = f'https://api.stlouisfed.org/fred/series/observations?series_id=GS10&api_key={api.FRED_API_KEY}&file_type=json'\n",
    "    response = requests.get(url)\n",
    "    data = response.json()\n",
    "    rate = float(data['observations'][-1]['value']) / 100  # Convert percentage to decimal\n",
    "    return rate\n",
    "risk_free_rate = get_risk_free_rate(fred_api_key)"
   ]
  },
  {
   "cell_type": "code",
   "execution_count": 59,
   "metadata": {},
   "outputs": [
    {
     "data": {
      "text/plain": [
       "0.044199999999999996"
      ]
     },
     "execution_count": 59,
     "metadata": {},
     "output_type": "execute_result"
    }
   ],
   "source": [
    "risk_free_rate"
   ]
  },
  {
   "cell_type": "markdown",
   "metadata": {},
   "source": [
    "## Define Function to minimize\n",
    "\n",
    "### Negative sharpe ratio\n",
    "\n",
    "we use the scipy.optimize.minimize() function to minimize the value"
   ]
  },
  {
   "cell_type": "code",
   "execution_count": 47,
   "metadata": {},
   "outputs": [],
   "source": [
    "def negative_sharpe_ratio(weights, log_returns_df, cov_matrix, risk_free_rate):\n",
    "    \"\"\"\n",
    "    Objective function to minimize: negative Sharpe Ratio.\n",
    "    \"\"\"\n",
    "    return -sharpe_ratio(weights, log_returns_df, cov_matrix, risk_free_rate)"
   ]
  },
  {
   "cell_type": "markdown",
   "metadata": {},
   "source": [
    "## Set Constrains and Bounds\n",
    "\n",
    "constrains and conditions that must be met by the solution during the optimization process."
   ]
  },
  {
   "cell_type": "code",
   "execution_count": 49,
   "metadata": {},
   "outputs": [],
   "source": [
    "constrains = ({'type': 'eq', 'fun': lambda weights: np.sum(weights) - 1})  # Weights must sum to 1\n",
    "\n",
    "bounds = [(0, .5) for _ in range(len(tickers))]  # Weights must be between 0 and 1"
   ]
  },
  {
   "cell_type": "markdown",
   "metadata": {},
   "source": [
    "## Set Initial weights"
   ]
  },
  {
   "cell_type": "code",
   "execution_count": 50,
   "metadata": {},
   "outputs": [],
   "source": [
    "# can be changed to inputs by user\n",
    "\n",
    "initial_weights = np.array([1/len(tickers)] * len(tickers))  # Equal weights"
   ]
  },
  {
   "cell_type": "markdown",
   "metadata": {},
   "source": [
    "## Oprimize the weights to maximize the the sharpe ratio"
   ]
  },
  {
   "cell_type": "code",
   "execution_count": 51,
   "metadata": {},
   "outputs": [],
   "source": [
    "optimized_result = minimize(negative_sharpe_ratio, initial_weights, args = (log_returns_df, cov_matrix, risk_free_rate),\n",
    "                            method='SLSQP', bounds=bounds, constraints=constrains)"
   ]
  },
  {
   "cell_type": "markdown",
   "metadata": {},
   "source": [
    "## Get optimal weights"
   ]
  },
  {
   "cell_type": "code",
   "execution_count": 52,
   "metadata": {},
   "outputs": [],
   "source": [
    "optimal_weights = optimized_result.x\n"
   ]
  },
  {
   "cell_type": "markdown",
   "metadata": {},
   "source": [
    "# Section 7: Analyze the Optimal Portfolio"
   ]
  },
  {
   "cell_type": "markdown",
   "metadata": {},
   "source": [
    "## Display analytics of the optimal portfolio"
   ]
  },
  {
   "cell_type": "code",
   "execution_count": 53,
   "metadata": {},
   "outputs": [
    {
     "name": "stdout",
     "output_type": "stream",
     "text": [
      "[0.5 0.  0.5 0.  0. ]\n",
      "SPY: 50.00%\n",
      "BND: 0.00%\n",
      "GLD: 50.00%\n",
      "QQQ: 0.00%\n",
      "VTI: 0.00%\n",
      "\n",
      "expected annual return:  0.139828\n",
      "expected volatility:  0.125021\n",
      "expected Sharpe Ratio:  0.764898\n"
     ]
    }
   ],
   "source": [
    "print(optimal_weights)\n",
    "for ticker, weight in zip(tickers, optimal_weights):\n",
    "    print(f\"{ticker}: {weight:.2%}\")\n",
    "print()\n",
    "\n",
    "optimal_portfolio_return = expected_return(optimal_weights, log_returns_df)\n",
    "optimal_portfolio_volatility = standard_deviation(optimal_weights, cov_matrix)\n",
    "optimal_portfolio_sharpe = sharpe_ratio(optimal_weights, log_returns_df, cov_matrix, risk_free_rate)\n",
    "\n",
    "print(f\"expected annual return: {optimal_portfolio_return: 4f}\")\n",
    "print(f\"expected volatility: {optimal_portfolio_volatility: 4f}\")\n",
    "print(f\"expected Sharpe Ratio: {optimal_portfolio_sharpe: 4f}\")"
   ]
  },
  {
   "cell_type": "markdown",
   "metadata": {},
   "source": [
    "## Display Final Portfolio as a Graph"
   ]
  },
  {
   "cell_type": "code",
   "execution_count": 56,
   "metadata": {},
   "outputs": [
    {
     "name": "stderr",
     "output_type": "stream",
     "text": [
      "Matplotlib is building the font cache; this may take a moment.\n"
     ]
    },
    {
     "data": {
      "image/png": "[encoded data removed]",
      "text/plain": [
       "<Figure size 1000x600 with 1 Axes>"
      ]
     },
     "metadata": {},
     "output_type": "display_data"
    }
   ],
   "source": [
    "# display as a pie chart using matplotlib\n",
    "import matplotlib.pyplot as plt\n",
    "plt.figure(figsize=(10, 6))\n",
    "plt.pie(optimal_weights, labels=tickers, autopct='%1.1f%%', startangle=140)\n",
    "plt.title('Optimal Portfolio Allocation')\n",
    "plt.axis('equal')  # Equal aspect ratio ensures that pie chart is a circle.\n",
    "plt.show()"
   ]
  },
  {
   "cell_type": "code",
   "execution_count": null,
   "metadata": {},
   "outputs": [],
   "source": []
  }
 ],
 "metadata": {
  "kernelspec": {
   "display_name": "Python 3",
   "language": "python",
   "name": "python3"
  },
  "language_info": {
   "codemirror_mode": {
    "name": "ipython",
    "version": 3
   },
   "file_extension": ".py",
   "mimetype": "text/x-python",
   "name": "python",
   "nbconvert_exporter": "python",
   "pygments_lexer": "ipython3",
   "version": "3.11.13"
  }
 },
 "nbformat": 4,
 "nbformat_minor": 2
}
